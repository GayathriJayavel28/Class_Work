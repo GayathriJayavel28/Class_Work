{
 "cells": [
  {
   "cell_type": "code",
   "execution_count": null,
   "id": "bcf5748b-ba98-4f7a-af5d-a2320c52df17",
   "metadata": {},
   "outputs": [],
   "source": [
    "s=[34,6767,34,76,8,23,7,89]\n",
    "for i in range(len(s)):\n",
    "    for j in range(len(s)):\n",
    "        print(i,j)\n",
    "        if f[i]>f[j]"
   ]
  },
  {
   "cell_type": "code",
   "execution_count": 4,
   "id": "5a66c4d8-1a56-4583-bae9-4d5cb5e6f304",
   "metadata": {},
   "outputs": [
    {
     "name": "stdout",
     "output_type": "stream",
     "text": [
      "7\n"
     ]
    }
   ],
   "source": [
    "#ARGUMENTS\n",
    "\n",
    "def add(s,g):\n",
    "    j=s+g\n",
    "    return j\n",
    "k=add(2,5)\n",
    "print(k)"
   ]
  },
  {
   "cell_type": "code",
   "execution_count": null,
   "id": "b1f4216a-a54f-4c81-8026-dcfb5f18ba67",
   "metadata": {},
   "outputs": [],
   "source": []
  }
 ],
 "metadata": {
  "kernelspec": {
   "display_name": "Python 3 (ipykernel)",
   "language": "python",
   "name": "python3"
  },
  "language_info": {
   "codemirror_mode": {
    "name": "ipython",
    "version": 3
   },
   "file_extension": ".py",
   "mimetype": "text/x-python",
   "name": "python",
   "nbconvert_exporter": "python",
   "pygments_lexer": "ipython3",
   "version": "3.12.7"
  }
 },
 "nbformat": 4,
 "nbformat_minor": 5
}
