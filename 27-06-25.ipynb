{
 "cells": [
  {
   "cell_type": "code",
   "execution_count": null,
   "id": "11dbc5a8-2737-4d44-997c-a8b8b9d79f5f",
   "metadata": {},
   "outputs": [],
   "source": [
    "#list comprehasion"
   ]
  },
  {
   "cell_type": "code",
   "execution_count": null,
   "id": "c229efa6-9959-48a5-a0f5-03652656bb2e",
   "metadata": {},
   "outputs": [],
   "source": [
    "#CLASSES\n",
    "\n",
    "SYNTAX\n",
    "class myobject:"
   ]
  },
  {
   "cell_type": "code",
   "execution_count": null,
   "id": "7fa23523-c3fd-4575-b657-f84b3064d28a",
   "metadata": {},
   "outputs": [],
   "source": [
    "class myobject:\n",
    "    a=2\n",
    "    b=3\n",
    "    z=a+b\n",
    "\n",
    "object1=myobject()\n",
    "print(object1.z)\n"
   ]
  },
  {
   "cell_type": "code",
   "execution_count": null,
   "id": "0db53496-3171-4d21-a988-04e5e3f6a302",
   "metadata": {},
   "outputs": [],
   "source": [
    "class myobject:\n",
    "    f=345\n",
    "    q=45\n",
    "\n",
    "object1=myobject()\n",
    "print(object1.f)"
   ]
  },
  {
   "cell_type": "code",
   "execution_count": null,
   "id": "122b1f40-f1cb-40d1-a0b4-0eb22e3d9890",
   "metadata": {},
   "outputs": [],
   "source": [
    "#object with function"
   ]
  },
  {
   "cell_type": "code",
   "execution_count": 1,
   "id": "c90aa501-d207-4036-a79f-3cb3e2010bad",
   "metadata": {},
   "outputs": [
    {
     "name": "stdout",
     "output_type": "stream",
     "text": [
      "5\n"
     ]
    }
   ],
   "source": [
    "class object:\n",
    "    def add(self):\n",
    "        a=2\n",
    "        b=3\n",
    "        print(a+b)\n",
    "call=object()\n",
    "call.add()"
   ]
  },
  {
   "cell_type": "code",
   "execution_count": 3,
   "id": "e3e2299e-0919-4cb5-88ad-3e3f19f01376",
   "metadata": {},
   "outputs": [
    {
     "name": "stdout",
     "output_type": "stream",
     "text": [
      "0\n"
     ]
    }
   ],
   "source": [
    "class object:\n",
    "    def sub(self):\n",
    "        a=23\n",
    "        b=23\n",
    "        print(a-b)\n",
    "\n",
    "gayathri=object()\n",
    "gayathri.sub()"
   ]
  },
  {
   "cell_type": "code",
   "execution_count": 4,
   "id": "395d6c0f-639d-434d-8ba9-2e9185214e4f",
   "metadata": {},
   "outputs": [
    {
     "name": "stdout",
     "output_type": "stream",
     "text": [
      "529\n"
     ]
    }
   ],
   "source": [
    "class object:\n",
    "    def mul(self):\n",
    "        a=23\n",
    "        b=23\n",
    "        print(a*b)\n",
    "\n",
    "gayathri=object()\n",
    "gayathri.mul()"
   ]
  },
  {
   "cell_type": "code",
   "execution_count": 5,
   "id": "88050d44-d0cf-47eb-9c90-c5072234d016",
   "metadata": {},
   "outputs": [
    {
     "name": "stdout",
     "output_type": "stream",
     "text": [
      "1.0\n"
     ]
    }
   ],
   "source": [
    "class object:\n",
    "    def div(self):\n",
    "        a=23\n",
    "        b=23\n",
    "        print(a/b)\n",
    "\n",
    "gayathri=object()\n",
    "gayathri.div()"
   ]
  },
  {
   "cell_type": "code",
   "execution_count": 7,
   "id": "685cc2b1-146e-4430-a4bf-e8e6c94e069e",
   "metadata": {},
   "outputs": [
    {
     "name": "stdout",
     "output_type": "stream",
     "text": [
      "22\n"
     ]
    }
   ],
   "source": [
    "class object:\n",
    "    def sub(self):\n",
    "        a=23\n",
    "        b=1\n",
    "        return a-b\n",
    "\n",
    "gayathri=object()\n",
    "k=gayathri.sub()\n",
    "print(k)"
   ]
  },
  {
   "cell_type": "code",
   "execution_count": null,
   "id": "0de6b16e-6b7c-487e-b6a3-2344bbe88abf",
   "metadata": {},
   "outputs": [],
   "source": [
    "#INIT = FIRST INITIALIZATION"
   ]
  },
  {
   "cell_type": "code",
   "execution_count": null,
   "id": "fc8f6e4e-2362-48f6-9d42-b355527f9779",
   "metadata": {},
   "outputs": [],
   "source": [
    "STON , PAPER , "
   ]
  }
 ],
 "metadata": {
  "kernelspec": {
   "display_name": "Python 3 (ipykernel)",
   "language": "python",
   "name": "python3"
  },
  "language_info": {
   "codemirror_mode": {
    "name": "ipython",
    "version": 3
   },
   "file_extension": ".py",
   "mimetype": "text/x-python",
   "name": "python",
   "nbconvert_exporter": "python",
   "pygments_lexer": "ipython3",
   "version": "3.12.7"
  }
 },
 "nbformat": 4,
 "nbformat_minor": 5
}
