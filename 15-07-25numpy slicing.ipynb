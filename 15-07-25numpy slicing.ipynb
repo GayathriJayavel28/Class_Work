{
 "cells": [
  {
   "cell_type": "code",
   "execution_count": null,
   "id": "fee98031-ee2e-4982-861a-ff04070d96b4",
   "metadata": {},
   "outputs": [],
   "source": [
    "l=[1,2,3]\n",
    "l2=[3,4,5]\n",
    "c=[]\n",
    "for i in range(len(l)):\n",
    "   c=( l[i]+l2[i])\n",
    "print(c)\n",
    "    "
   ]
  },
  {
   "cell_type": "code",
   "execution_count": 3,
   "id": "858c9a8a-b1c8-49f9-ab94-0f48946da754",
   "metadata": {},
   "outputs": [
    {
     "name": "stdout",
     "output_type": "stream",
     "text": [
      "[ 5 71  7 57 37]\n"
     ]
    }
   ],
   "source": [
    "import numpy as np\n",
    "a=np.array([2,4,3,1,34])\n",
    "b=np.array([3,67,4,56,3])\n",
    "addition=a+b\n",
    "print(addition)"
   ]
  },
  {
   "cell_type": "code",
   "execution_count": 6,
   "id": "0ec29634-e063-47ff-8c34-e4d73a6d75f9",
   "metadata": {},
   "outputs": [
    {
     "name": "stdout",
     "output_type": "stream",
     "text": [
      "[[ 46 389 634 167  26]\n",
      " [ 25 357  60  72  12]]\n",
      "[[   0 -299 -498   11   22]\n",
      " [  21  351   52  -62    2]]\n",
      "[[  529 15480 38488  6942    48]\n",
      " [   46  1062   224   335    35]]\n",
      "[[1.00000000e+00 1.30813953e-01 1.20141343e-01 1.14102564e+00\n",
      "  1.20000000e+01]\n",
      " [1.15000000e+01 1.18000000e+02 1.40000000e+01 7.46268657e-02\n",
      "  1.40000000e+00]]\n"
     ]
    }
   ],
   "source": [
    "import numpy as np\n",
    "a=np.array([[23,45,68,89,24],[23,354,56,5,7]])\n",
    "b=np.array([[23,344,566,78,2],[2,3,4,67,5]])\n",
    "add=a+b\n",
    "sub=a-b\n",
    "mul=a*b\n",
    "div=a/b\n",
    "print(add)\n",
    "print(sub)\n",
    "print(mul)\n",
    "print(div)"
   ]
  },
  {
   "cell_type": "code",
   "execution_count": 8,
   "id": "a3b86ea0-5e3e-4d47-9d39-391c70a40039",
   "metadata": {},
   "outputs": [
    {
     "name": "stdout",
     "output_type": "stream",
     "text": [
      "[ -1 -63  -1 -55  31]\n"
     ]
    }
   ],
   "source": [
    "import numpy as np\n",
    "a=np.array([2,4,3,1,34])\n",
    "b=np.array([3,67,4,56,3])\n",
    "addition=a-b\n",
    "print(addition)"
   ]
  },
  {
   "cell_type": "code",
   "execution_count": null,
   "id": "326ba302-4ff2-4652-a986-e64c8dfb3cb1",
   "metadata": {},
   "outputs": [],
   "source": []
  }
 ],
 "metadata": {
  "kernelspec": {
   "display_name": "Python 3 (ipykernel)",
   "language": "python",
   "name": "python3"
  },
  "language_info": {
   "codemirror_mode": {
    "name": "ipython",
    "version": 3
   },
   "file_extension": ".py",
   "mimetype": "text/x-python",
   "name": "python",
   "nbconvert_exporter": "python",
   "pygments_lexer": "ipython3",
   "version": "3.12.7"
  }
 },
 "nbformat": 4,
 "nbformat_minor": 5
}
