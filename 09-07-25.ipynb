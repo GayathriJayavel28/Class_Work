{
 "cells": [
  {
   "cell_type": "code",
   "execution_count": 8,
   "id": "ea325a14-2799-436b-9805-ca864361ae42",
   "metadata": {},
   "outputs": [],
   "source": [
    "import sqlite3\n",
    "connection=sqlite3.connect('gayu.db')\n",
    "cursor=connection.cursor()\n",
    "cursor.execute('CREATE TABLE IF NOT EXISTS employee (emp_id INT PRIMARY KEY,emp_name VARCHAR(100),emp_dept VARCHAR(50))')\n",
    "connection.commit()\n",
    "cursor.execute('INSERT INTO employee (emp_id,emp_name,emp_dept) VALUES (?,?,?)',(1,'gayathri','CSE'),(2,'savitha','BCA'))\n",
    "connection.commit()"
   ]
  },
  {
   "cell_type": "code",
   "execution_count": null,
   "id": "ddafad7c-25c6-44d9-a6f5-81c02b966e48",
   "metadata": {},
   "outputs": [],
   "source": []
  }
 ],
 "metadata": {
  "kernelspec": {
   "display_name": "Python 3 (ipykernel)",
   "language": "python",
   "name": "python3"
  },
  "language_info": {
   "codemirror_mode": {
    "name": "ipython",
    "version": 3
   },
   "file_extension": ".py",
   "mimetype": "text/x-python",
   "name": "python",
   "nbconvert_exporter": "python",
   "pygments_lexer": "ipython3",
   "version": "3.12.7"
  }
 },
 "nbformat": 4,
 "nbformat_minor": 5
}
