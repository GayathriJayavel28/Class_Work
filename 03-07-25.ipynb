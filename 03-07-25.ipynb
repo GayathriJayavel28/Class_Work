{
 "cells": [
  {
   "cell_type": "code",
   "execution_count": null,
   "id": "45190990-c0f5-42a9-af4d-840901cf5466",
   "metadata": {},
   "outputs": [],
   "source": [
    "#multilevel inheritance"
   ]
  },
  {
   "cell_type": "code",
   "execution_count": 6,
   "id": "d9b9615a-6a5f-4ad3-8581-f37a3b032859",
   "metadata": {},
   "outputs": [
    {
     "name": "stdout",
     "output_type": "stream",
     "text": [
      "mahendra\n",
      "CSE\n",
      "IT\n"
     ]
    }
   ],
   "source": [
    "#hierarical\n",
    "\n",
    "class college:\n",
    "    def show(self):\n",
    "        print('mahendra')\n",
    "\n",
    "class dept(college):\n",
    "    def show1(self):\n",
    "        print('CSE')\n",
    "\n",
    "class dept1(dept):\n",
    "    def show2(self):\n",
    "        print('IT')\n",
    "\n",
    "a1=dept1()\n",
    "a1.show()\n",
    "a1.show1()\n",
    "a1.show2()"
   ]
  },
  {
   "cell_type": "code",
   "execution_count": 12,
   "id": "bb6fcfa6-f34f-4fbd-8c8e-b72bc6a30f43",
   "metadata": {},
   "outputs": [
    {
     "name": "stdout",
     "output_type": "stream",
     "text": [
      "mahendra\n"
     ]
    },
    {
     "ename": "AttributeError",
     "evalue": "'dept1' object has no attribute 'show1'",
     "output_type": "error",
     "traceback": [
      "\u001b[1;31m---------------------------------------------------------------------------\u001b[0m",
      "\u001b[1;31mAttributeError\u001b[0m                            Traceback (most recent call last)",
      "Cell \u001b[1;32mIn[12], line 17\u001b[0m\n\u001b[0;32m     15\u001b[0m a\u001b[38;5;241m=\u001b[39mdept1()\n\u001b[0;32m     16\u001b[0m a\u001b[38;5;241m.\u001b[39mshow()\n\u001b[1;32m---> 17\u001b[0m a\u001b[38;5;241m.\u001b[39mshow1()\n\u001b[0;32m     18\u001b[0m a\u001b[38;5;241m.\u001b[39mshow2()\n",
      "\u001b[1;31mAttributeError\u001b[0m: 'dept1' object has no attribute 'show1'"
     ]
    }
   ],
   "source": [
    "#hibrid\n",
    "\n",
    "class college:\n",
    "    def show(self):\n",
    "        print('mahendra')\n",
    "\n",
    "class dept(college):\n",
    "    def show1(self):\n",
    "        print('CSE')\n",
    "\n",
    "class dept1(college):\n",
    "    def show2(self):\n",
    "        print('IT')\n",
    "\n",
    "a=dept1()\n",
    "a.show()\n",
    "a.show1()\n",
    "a.show2()"
   ]
  },
  {
   "cell_type": "code",
   "execution_count": null,
   "id": "d97d216e-08f9-4cf5-9998-b03f2dd2da5e",
   "metadata": {},
   "outputs": [],
   "source": []
  }
 ],
 "metadata": {
  "kernelspec": {
   "display_name": "Python 3 (ipykernel)",
   "language": "python",
   "name": "python3"
  },
  "language_info": {
   "codemirror_mode": {
    "name": "ipython",
    "version": 3
   },
   "file_extension": ".py",
   "mimetype": "text/x-python",
   "name": "python",
   "nbconvert_exporter": "python",
   "pygments_lexer": "ipython3",
   "version": "3.12.7"
  }
 },
 "nbformat": 4,
 "nbformat_minor": 5
}
