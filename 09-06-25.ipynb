{
 "cells": [
  {
   "cell_type": "code",
   "execution_count": null,
   "id": "79e73bdc-8aa7-4978-918f-299c23932727",
   "metadata": {},
   "outputs": [],
   "source": [
    "#logical operators\n",
    "#AND\n",
    "#OR\n",
    "#NOT\n",
    "\n"
   ]
  },
  {
   "cell_type": "code",
   "execution_count": null,
   "id": "dde3c1ac-1806-43b4-9399-fc34f692c1d3",
   "metadata": {},
   "outputs": [],
   "source": [
    "#identity operators\n",
    "#is\n",
    "#is not"
   ]
  },
  {
   "cell_type": "code",
   "execution_count": null,
   "id": "970d1155-6eae-4101-98a7-e4662136b951",
   "metadata": {},
   "outputs": [],
   "source": [
    "#membership operators \n",
    "#in\n",
    "#not in"
   ]
  },
  {
   "cell_type": "code",
   "execution_count": null,
   "id": "a32a5704-db2e-487b-9d4d-fa15fc866d89",
   "metadata": {},
   "outputs": [],
   "source": [
    "#bitwise operators\n"
   ]
  },
  {
   "cell_type": "code",
   "execution_count": null,
   "id": "90955c48-e1f5-46b7-af63-633ce56b0748",
   "metadata": {},
   "outputs": [],
   "source": []
  }
 ],
 "metadata": {
  "kernelspec": {
   "display_name": "Python 3 (ipykernel)",
   "language": "python",
   "name": "python3"
  },
  "language_info": {
   "codemirror_mode": {
    "name": "ipython",
    "version": 3
   },
   "file_extension": ".py",
   "mimetype": "text/x-python",
   "name": "python",
   "nbconvert_exporter": "python",
   "pygments_lexer": "ipython3",
   "version": "3.12.7"
  }
 },
 "nbformat": 4,
 "nbformat_minor": 5
}
