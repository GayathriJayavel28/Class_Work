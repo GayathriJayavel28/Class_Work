{
 "cells": [
  {
   "cell_type": "code",
   "execution_count": 3,
   "id": "dd534a9d-7b90-43f7-9435-75f398bc69ea",
   "metadata": {},
   "outputs": [
    {
     "name": "stdout",
     "output_type": "stream",
     "text": [
      "34\n",
      "<class 'numpy.ndarray'>\n"
     ]
    }
   ],
   "source": [
    "import numpy\n",
    "a=numpy.array(34)\n",
    "print(a)\n",
    "print(type(a))"
   ]
  },
  {
   "cell_type": "code",
   "execution_count": 4,
   "id": "05c0c745-ba8f-4ce6-a529-cc6350f91352",
   "metadata": {},
   "outputs": [
    {
     "name": "stdout",
     "output_type": "stream",
     "text": [
      "1.26.4\n"
     ]
    }
   ],
   "source": [
    "import numpy as np\n",
    "print(np.__version__)\n"
   ]
  },
  {
   "cell_type": "code",
   "execution_count": 13,
   "id": "0110f1d9-b4df-41c7-8e4c-aea70cce434f",
   "metadata": {},
   "outputs": [
    {
     "name": "stdout",
     "output_type": "stream",
     "text": [
      "23\n",
      "0\n"
     ]
    }
   ],
   "source": [
    "import numpy as py\n",
    "a=py.array(23)\n",
    "print(a)\n",
    "print(a.ndim)  "
   ]
  },
  {
   "cell_type": "code",
   "execution_count": 14,
   "id": "ff60bdab-724f-4d69-ac4f-7b9a147a59a6",
   "metadata": {},
   "outputs": [
    {
     "name": "stdout",
     "output_type": "stream",
     "text": [
      "[23 34  5  5]\n",
      "1\n"
     ]
    }
   ],
   "source": [
    "import numpy as py\n",
    "a=py.array([23,34,5,5])\n",
    "print(a)\n",
    "print(a.ndim)"
   ]
  },
  {
   "cell_type": "code",
   "execution_count": 11,
   "id": "83e9e312-8d43-47be-a2f7-fa4e7927706f",
   "metadata": {},
   "outputs": [
    {
     "name": "stdout",
     "output_type": "stream",
     "text": [
      "[[23 45 56 76  2]\n",
      " [23 56 78 93  2]]\n",
      "<class 'numpy.ndarray'>\n",
      "2\n"
     ]
    }
   ],
   "source": [
    "import numpy as py\n",
    "a=py.array([[23,45,56,76,2],[23,56,78,93,2]])\n",
    "print(a)\n",
    "print(type(a))\n",
    "print(a.ndim) # number of diamentional"
   ]
  },
  {
   "cell_type": "code",
   "execution_count": 20,
   "id": "336a45e2-9f47-481c-9231-8086b474837b",
   "metadata": {},
   "outputs": [
    {
     "name": "stdout",
     "output_type": "stream",
     "text": [
      "[[[   1    4    5    6    6]\n",
      "  [   2   12 3445   45    4]\n",
      "  [   3   45   78    9    3]\n",
      "  [  45    5   79    4    7]\n",
      "  [  56    2    3    5    7]]]\n",
      "3\n"
     ]
    }
   ],
   "source": [
    "import numpy as py\n",
    "a=py.array([[[1,4,5,6,6],[2,12,3445,45,4],[3,45,78,9,3],[45,5,79,4,7],[56,2,3,5,7]]])\n",
    "print(a)\n",
    "print(a.ndim)"
   ]
  },
  {
   "cell_type": "code",
   "execution_count": null,
   "id": "821010c6-cf58-4f7f-8ad9-2d81c622c0d9",
   "metadata": {},
   "outputs": [],
   "source": []
  }
 ],
 "metadata": {
  "kernelspec": {
   "display_name": "Python 3 (ipykernel)",
   "language": "python",
   "name": "python3"
  },
  "language_info": {
   "codemirror_mode": {
    "name": "ipython",
    "version": 3
   },
   "file_extension": ".py",
   "mimetype": "text/x-python",
   "name": "python",
   "nbconvert_exporter": "python",
   "pygments_lexer": "ipython3",
   "version": "3.12.7"
  }
 },
 "nbformat": 4,
 "nbformat_minor": 5
}
