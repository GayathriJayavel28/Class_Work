{
 "cells": [
  {
   "cell_type": "code",
   "execution_count": 1,
   "id": "7ca5eecd-c413-4873-b971-b6d0e061d390",
   "metadata": {},
   "outputs": [
    {
     "name": "stdout",
     "output_type": "stream",
     "text": [
      "[[ 1 46 87 90  3]\n",
      " [74  5  7  3 78]]\n"
     ]
    }
   ],
   "source": [
    "import numpy as np\n",
    "x=np.array([1,46,87,90,3,74,5,7,3,78])\n",
    "n=x.reshape(2,5)\n",
    "print(n)"
   ]
  },
  {
   "cell_type": "code",
   "execution_count": 7,
   "id": "865170ce-01ba-4e9b-9637-cb922ffba1aa",
   "metadata": {},
   "outputs": [
    {
     "name": "stdout",
     "output_type": "stream",
     "text": [
      "[[   234  45657]\n",
      " [  6989   3454]\n",
      " [   890  34546]\n",
      " [567678      2]]\n"
     ]
    }
   ],
   "source": [
    "import numpy as np\n",
    "n=np.array([234,45657,6989,3454,890,34546,567678,2])\n",
    "s=n.reshape(4,2)\n",
    "print(s)"
   ]
  },
  {
   "cell_type": "code",
   "execution_count": 8,
   "id": "39aad930-425f-46ad-b535-c27f0530b001",
   "metadata": {},
   "outputs": [
    {
     "name": "stdout",
     "output_type": "stream",
     "text": [
      "[[[ 1  2]\n",
      "  [ 3  4]]\n",
      "\n",
      " [[ 5  6]\n",
      "  [ 7  8]]\n",
      "\n",
      " [[ 9 10]\n",
      "  [11 12]]]\n"
     ]
    }
   ],
   "source": [
    "import numpy as np\n",
    "a=np.array([1,2,3,4,5,6,7,8,9,10,11,12])\n",
    "g=a.reshape(3,2,2)\n",
    "print(g)"
   ]
  },
  {
   "cell_type": "code",
   "execution_count": 10,
   "id": "76a1c056-41d5-4539-accc-d82be0aaffd5",
   "metadata": {},
   "outputs": [
    {
     "name": "stdout",
     "output_type": "stream",
     "text": [
      "[[[ 1  2]]\n",
      "\n",
      " [[ 3  4]]\n",
      "\n",
      " [[ 5  6]]\n",
      "\n",
      " [[ 7  8]]\n",
      "\n",
      " [[ 9 10]]\n",
      "\n",
      " [[11 12]]]\n"
     ]
    }
   ],
   "source": [
    "import numpy as np\n",
    "a=np.array([1,2,3,4,5,6,7,8,9,10,11,12])\n",
    "g=a.reshape(6,1,2)\n",
    "print(g)"
   ]
  },
  {
   "cell_type": "code",
   "execution_count": 11,
   "id": "d980dca7-f7b9-4f77-a4ad-b3c827b6d945",
   "metadata": {},
   "outputs": [
    {
     "name": "stdout",
     "output_type": "stream",
     "text": [
      "[[[ 1  2]\n",
      "  [ 3  4]\n",
      "  [ 5  6]]\n",
      "\n",
      " [[ 7  8]\n",
      "  [ 9 10]\n",
      "  [11 12]]]\n"
     ]
    }
   ],
   "source": [
    "import numpy as np\n",
    "a=np.array([1,2,3,4,5,6,7,8,9,10,11,12])\n",
    "g=a.reshape(2,3,2)\n",
    "print(g)"
   ]
  },
  {
   "cell_type": "code",
   "execution_count": 12,
   "id": "a9b5971f-8a05-4905-96ff-82cfb30df9bf",
   "metadata": {},
   "outputs": [
    {
     "name": "stdout",
     "output_type": "stream",
     "text": [
      "[[[ 1  2  3  4]\n",
      "  [ 5  6  7  8]\n",
      "  [ 9 10 11 12]]]\n"
     ]
    }
   ],
   "source": [
    "import numpy as np\n",
    "a=np.array([1,2,3,4,5,6,7,8,9,10,11,12])\n",
    "g=a.reshape(1,3,4)\n",
    "print(g)"
   ]
  },
  {
   "cell_type": "code",
   "execution_count": null,
   "id": "bfae856e-632c-42c1-8476-a91ff5e19ff8",
   "metadata": {},
   "outputs": [],
   "source": []
  }
 ],
 "metadata": {
  "kernelspec": {
   "display_name": "Python 3 (ipykernel)",
   "language": "python",
   "name": "python3"
  },
  "language_info": {
   "codemirror_mode": {
    "name": "ipython",
    "version": 3
   },
   "file_extension": ".py",
   "mimetype": "text/x-python",
   "name": "python",
   "nbconvert_exporter": "python",
   "pygments_lexer": "ipython3",
   "version": "3.12.7"
  }
 },
 "nbformat": 4,
 "nbformat_minor": 5
}
