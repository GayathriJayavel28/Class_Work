{
 "cells": [
  {
   "cell_type": "code",
   "execution_count": 1,
   "id": "ef2b1f43-172e-43c1-bf05-b693c93298b9",
   "metadata": {},
   "outputs": [
    {
     "name": "stdout",
     "output_type": "stream",
     "text": [
      "7\n"
     ]
    }
   ],
   "source": [
    "l=[2,4,9,10,11,12,13]\n",
    "s=0\n",
    "for i in l:\n",
    "    s+=1\n",
    "print(s)"
   ]
  },
  {
   "cell_type": "code",
   "execution_count": null,
   "id": "9e9a38e3-98ce-48b8-97ae-e39c87482b7a",
   "metadata": {},
   "outputs": [],
   "source": [
    "#add all numbers\n",
    "\n",
    "l=[2,4,9,10,11,12,13]\n",
    "s=0\n",
    "for i in l:\n",
    "    s+=i\n",
    "print(s)"
   ]
  },
  {
   "cell_type": "code",
   "execution_count": null,
   "id": "bf765017-3b9f-4ded-9e99-a58269c730ac",
   "metadata": {},
   "outputs": [],
   "source": []
  },
  {
   "cell_type": "code",
   "execution_count": null,
   "id": "21525b64-1773-489b-bd31-a06adf1d4db8",
   "metadata": {},
   "outputs": [],
   "source": [
    "#WHILE LOOP\n",
    "\n",
    "i=12\n",
    "while i<=15:\n",
    "    print(i)\n",
    "    i += 1"
   ]
  },
  {
   "cell_type": "code",
   "execution_count": null,
   "id": "0e52b94d-38b6-4063-baaf-3e00ebabe077",
   "metadata": {},
   "outputs": [],
   "source": [
    "i"
   ]
  },
  {
   "cell_type": "code",
   "execution_count": 1,
   "id": "8689540b-b253-4137-8883-4776cf8e4ada",
   "metadata": {},
   "outputs": [],
   "source": [
    "i=50\n",
    "while i <=10:\n",
    "   print(i)\n",
    "   i+=5\n"
   ]
  },
  {
   "cell_type": "code",
   "execution_count": null,
   "id": "167f4546-555a-43e3-8cb1-79e5a547fa02",
   "metadata": {},
   "outputs": [],
   "source": [
    "# PASS, CONTINUE, BREAK"
   ]
  },
  {
   "cell_type": "code",
   "execution_count": null,
   "id": "6c19e6a1-6e10-4a9d-a254-79b51023483e",
   "metadata": {},
   "outputs": [],
   "source": [
    "#LEETCODE"
   ]
  },
  {
   "cell_type": "code",
   "execution_count": 8,
   "id": "d63ea636-2e59-401c-a870-703aaf086ffa",
   "metadata": {},
   "outputs": [
    {
     "name": "stdout",
     "output_type": "stream",
     "text": [
      "True\n"
     ]
    }
   ],
   "source": [
    "print('abcd'>'ab')"
   ]
  },
  {
   "cell_type": "code",
   "execution_count": null,
   "id": "a84a77f3-b8bc-4998-b4f2-8182f585e79e",
   "metadata": {},
   "outputs": [],
   "source": []
  }
 ],
 "metadata": {
  "kernelspec": {
   "display_name": "Python 3 (ipykernel)",
   "language": "python",
   "name": "python3"
  },
  "language_info": {
   "codemirror_mode": {
    "name": "ipython",
    "version": 3
   },
   "file_extension": ".py",
   "mimetype": "text/x-python",
   "name": "python",
   "nbconvert_exporter": "python",
   "pygments_lexer": "ipython3",
   "version": "3.12.7"
  }
 },
 "nbformat": 4,
 "nbformat_minor": 5
}
