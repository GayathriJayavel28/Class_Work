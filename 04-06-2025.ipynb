{
 "cells": [
  {
   "cell_type": "code",
   "execution_count": 4,
   "id": "411beb3e-e8c3-49d8-a439-ca48c51749a4",
   "metadata": {},
   "outputs": [
    {
     "name": "stdout",
     "output_type": "stream",
     "text": [
      "<class 'int'>\n",
      "<class 'str'>\n",
      "<class 'float'>\n",
      "<class 'complex'>\n"
     ]
    }
   ],
   "source": [
    "g=123\n",
    "g1=\"23445\"\n",
    "g2=1.4\n",
    "g3=1+3j\n",
    "print(type(g))\n",
    "print(type(g1))\n",
    "print(type(g2))\n",
    "print(type(g3))"
   ]
  },
  {
   "cell_type": "code",
   "execution_count": 10,
   "id": "d99ca045-3a88-4c91-ab23-5cca48c7c743",
   "metadata": {},
   "outputs": [
    {
     "name": "stdout",
     "output_type": "stream",
     "text": [
      "<class 'int'>\n",
      "7\n",
      "7.0\n",
      "(7+0j)\n"
     ]
    }
   ],
   "source": [
    "k=7\n",
    "print(type(k))\n",
    "k=str(7)\n",
    "print(k)\n",
    "k=float(7)\n",
    "print(k)\n",
    "k=complex(7)\n",
    "print(k)"
   ]
  },
  {
   "cell_type": "code",
   "execution_count": 14,
   "id": "6e9d53d2-cf7b-462c-b694-34cf067f9016",
   "metadata": {
    "scrolled": true
   },
   "outputs": [
    {
     "name": "stdout",
     "output_type": "stream",
     "text": [
      "hi\n"
     ]
    },
    {
     "ename": "ValueError",
     "evalue": "invalid literal for int() with base 10: 'hi'",
     "output_type": "error",
     "traceback": [
      "\u001b[1;31m---------------------------------------------------------------------------\u001b[0m",
      "\u001b[1;31mValueError\u001b[0m                                Traceback (most recent call last)",
      "Cell \u001b[1;32mIn[14], line 3\u001b[0m\n\u001b[0;32m      1\u001b[0m k1\u001b[38;5;241m=\u001b[39m\u001b[38;5;124m\"\u001b[39m\u001b[38;5;124mhi\u001b[39m\u001b[38;5;124m\"\u001b[39m\n\u001b[0;32m      2\u001b[0m \u001b[38;5;28mprint\u001b[39m(k1)\n\u001b[1;32m----> 3\u001b[0m k1\u001b[38;5;241m=\u001b[39m\u001b[38;5;28mint\u001b[39m(\u001b[38;5;124m\"\u001b[39m\u001b[38;5;124mhi\u001b[39m\u001b[38;5;124m\"\u001b[39m)\n\u001b[0;32m      4\u001b[0m \u001b[38;5;28mprint\u001b[39m(k1)\n\u001b[0;32m      5\u001b[0m k1\u001b[38;5;241m=\u001b[39m\u001b[38;5;28mfloat\u001b[39m(\u001b[38;5;124m\"\u001b[39m\u001b[38;5;124mhi\u001b[39m\u001b[38;5;124m\"\u001b[39m)\n",
      "\u001b[1;31mValueError\u001b[0m: invalid literal for int() with base 10: 'hi'"
     ]
    }
   ],
   "source": [
    "k1=\"hi\"\n",
    "print(k1)\n",
    "k1=int(\"hi\")\n",
    "print(k1)\n",
    "k1=float(\"hi\")\n",
    "print(k1)\n",
    "k1=complex(\"hi\")\n",
    "print(k1)"
   ]
  },
  {
   "cell_type": "code",
   "execution_count": 20,
   "id": "12c9fc50-63ac-4b22-9012-2677c15dbf27",
   "metadata": {},
   "outputs": [
    {
     "name": "stdout",
     "output_type": "stream",
     "text": [
      "89\n",
      "89\n",
      "89.0\n",
      "(89+0j)\n"
     ]
    }
   ],
   "source": [
    "k2=\"89\"\n",
    "print(k2)\n",
    "k2=int(\"89\")\n",
    "print(k2)\n",
    "k2=float(\"89\")\n",
    "print(k2)\n",
    "k2=complex(\"89\")\n",
    "print(k2)"
   ]
  },
  {
   "cell_type": "code",
   "execution_count": 22,
   "id": "d0e7b90e-abd9-451e-8e8b-620297d52cdd",
   "metadata": {},
   "outputs": [
    {
     "name": "stdout",
     "output_type": "stream",
     "text": [
      "(1+3j)\n",
      "(1+3j)\n"
     ]
    },
    {
     "ename": "TypeError",
     "evalue": "int() argument must be a string, a bytes-like object or a real number, not 'complex'",
     "output_type": "error",
     "traceback": [
      "\u001b[1;31m---------------------------------------------------------------------------\u001b[0m",
      "\u001b[1;31mTypeError\u001b[0m                                 Traceback (most recent call last)",
      "Cell \u001b[1;32mIn[22], line 5\u001b[0m\n\u001b[0;32m      3\u001b[0m k3\u001b[38;5;241m=\u001b[39m\u001b[38;5;28mstr\u001b[39m(\u001b[38;5;241m1\u001b[39m\u001b[38;5;241m+\u001b[39m\u001b[38;5;241m3\u001b[39mj)\n\u001b[0;32m      4\u001b[0m \u001b[38;5;28mprint\u001b[39m(k3)\n\u001b[1;32m----> 5\u001b[0m k3\u001b[38;5;241m=\u001b[39m\u001b[38;5;28mint\u001b[39m(\u001b[38;5;241m1\u001b[39m\u001b[38;5;241m+\u001b[39m\u001b[38;5;241m3\u001b[39mj)\n\u001b[0;32m      6\u001b[0m \u001b[38;5;28mprint\u001b[39m(k3)\n\u001b[0;32m      7\u001b[0m k3\u001b[38;5;241m=\u001b[39m\u001b[38;5;28mfloat\u001b[39m(\u001b[38;5;241m1\u001b[39m\u001b[38;5;241m+\u001b[39m\u001b[38;5;241m3\u001b[39mj)\n",
      "\u001b[1;31mTypeError\u001b[0m: int() argument must be a string, a bytes-like object or a real number, not 'complex'"
     ]
    }
   ],
   "source": [
    "k3=1+3j\n",
    "print(k3)\n",
    "k3=str(1+3j)\n",
    "print(k3)\n",
    "k3=int(1+3j)\n",
    "print(k3)\n",
    "k3=float(1+3j)\n",
    "print(k3)"
   ]
  },
  {
   "cell_type": "code",
   "execution_count": 26,
   "id": "f342b949-991c-476f-a1b4-a12f3e9b2619",
   "metadata": {},
   "outputs": [
    {
     "name": "stdout",
     "output_type": "stream",
     "text": [
      "7.8\n",
      "7\n",
      "7.8\n",
      "(7.8+0j)\n"
     ]
    }
   ],
   "source": [
    "k4=7.8\n",
    "print(k4)\n",
    "k4=int(7.8)\n",
    "print(k4)\n",
    "k4=str(7.8)\n",
    "print(k4)\n",
    "k4=complex(7.8)\n",
    "print(k4)"
   ]
  },
  {
   "cell_type": "code",
   "execution_count": null,
   "id": "55724f2a-1e89-43b9-a02d-89f0d77a8db0",
   "metadata": {},
   "outputs": [],
   "source": []
  }
 ],
 "metadata": {
  "kernelspec": {
   "display_name": "Python 3 (ipykernel)",
   "language": "python",
   "name": "python3"
  },
  "language_info": {
   "codemirror_mode": {
    "name": "ipython",
    "version": 3
   },
   "file_extension": ".py",
   "mimetype": "text/x-python",
   "name": "python",
   "nbconvert_exporter": "python",
   "pygments_lexer": "ipython3",
   "version": "3.12.7"
  }
 },
 "nbformat": 4,
 "nbformat_minor": 5
}
