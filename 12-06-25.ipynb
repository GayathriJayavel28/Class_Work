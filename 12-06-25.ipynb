{
 "cells": [
  {
   "cell_type": "code",
   "execution_count": 7,
   "id": "b70ad0cf-7902-4d1f-954a-77888aae4a83",
   "metadata": {},
   "outputs": [
    {
     "name": "stdout",
     "output_type": "stream",
     "text": [
      "{96, 1, 2, 5, 6, 8}\n",
      "{96, 1, 2, 6, 8}\n",
      "{96, 1, 2, 6, 8, 11, 44, 22}\n"
     ]
    }
   ],
   "source": [
    "#SET\n",
    "\n",
    "k={1,2,1,5,6,2,8}\n",
    "k.add(96)\n",
    "print(k)\n",
    "\n",
    "k.remove(5)\n",
    "print(k)\n",
    "\n",
    "k1={11,22,44}\n",
    "k1.update(k)\n",
    "print(k1)"
   ]
  },
  {
   "cell_type": "code",
   "execution_count": 21,
   "id": "86e6c7a2-c44d-4911-ad40-7bbe27060226",
   "metadata": {},
   "outputs": [
    {
     "name": "stdout",
     "output_type": "stream",
     "text": [
      "{'s': 23, 'g': 34, 'j': 123, 'a': 23}\n",
      "{'s': 23, 'g': 34, 'j': 123, 'a': 23}\n",
      "34\n"
     ]
    }
   ],
   "source": [
    "#dict\n",
    "\n",
    "s={'s':23,'g':34,'j':123}\n",
    "s['a']=23\n",
    "print(s)\n",
    "s['g']\n",
    "print(s)\n",
    "\n",
    "s=34\n",
    "print(s)\n"
   ]
  },
  {
   "cell_type": "code",
   "execution_count": 22,
   "id": "70076949-b6da-4a8e-ade7-3c26e316f869",
   "metadata": {},
   "outputs": [
    {
     "name": "stdout",
     "output_type": "stream",
     "text": [
      "gayathri\n"
     ]
    }
   ],
   "source": [
    "e='gayaThri'\n",
    "print(e.casefold())"
   ]
  },
  {
   "cell_type": "code",
   "execution_count": null,
   "id": "350c4564-4686-498f-8180-776eff5be6d7",
   "metadata": {},
   "outputs": [],
   "source": []
  }
 ],
 "metadata": {
  "kernelspec": {
   "display_name": "Python 3 (ipykernel)",
   "language": "python",
   "name": "python3"
  },
  "language_info": {
   "codemirror_mode": {
    "name": "ipython",
    "version": 3
   },
   "file_extension": ".py",
   "mimetype": "text/x-python",
   "name": "python",
   "nbconvert_exporter": "python",
   "pygments_lexer": "ipython3",
   "version": "3.12.7"
  }
 },
 "nbformat": 4,
 "nbformat_minor": 5
}
