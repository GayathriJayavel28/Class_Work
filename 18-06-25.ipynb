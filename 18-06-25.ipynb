{
 "cells": [
  {
   "cell_type": "code",
   "execution_count": 23,
   "id": "4c1eaab9-262e-42a0-a76d-9fce85983510",
   "metadata": {},
   "outputs": [
    {
     "name": "stdout",
     "output_type": "stream",
     "text": [
      "{'h': 1, 'e': 1, 'l': 3, 'o': 2, ' ': 1, 'w': 1, 'r': 1, 'd': 1}\n"
     ]
    }
   ],
   "source": [
    "#how many times letters in repeated\n",
    "\n",
    "k=\"hello world\"\n",
    "d={}\n",
    "for i in k:\n",
    "    if i in d:\n",
    "        d[i]+=1\n",
    "    else:\n",
    "        d[i]=1\n",
    "print(d)"
   ]
  },
  {
   "cell_type": "code",
   "execution_count": 27,
   "id": "04109641-7bcc-4ecc-af7d-b0cb4e7f6a02",
   "metadata": {},
   "outputs": [
    {
     "ename": "SyntaxError",
     "evalue": "invalid syntax (497609427.py, line 2)",
     "output_type": "error",
     "traceback": [
      "\u001b[1;36m  Cell \u001b[1;32mIn[27], line 2\u001b[1;36m\u001b[0m\n\u001b[1;33m    syntax:\u001b[0m\n\u001b[1;37m           ^\u001b[0m\n\u001b[1;31mSyntaxError\u001b[0m\u001b[1;31m:\u001b[0m invalid syntax\n"
     ]
    }
   ],
   "source": [
    "#functions = reuseablity\n",
    "syntax:\n",
    "def function():"
   ]
  },
  {
   "cell_type": "code",
   "execution_count": null,
   "id": "32de0c78-c9ee-41ce-afe6-b2f54a0637d4",
   "metadata": {},
   "outputs": [],
   "source": [
    "# local variable , global \n",
    "\n",
    "'''function kulla variable kudutha athu local variable\n",
    "function veliya variable kudutha athu global variable'''\n"
   ]
  },
  {
   "cell_type": "code",
   "execution_count": 33,
   "id": "2c3325cf-3a4d-4788-a955-42943bf02009",
   "metadata": {},
   "outputs": [
    {
     "name": "stdout",
     "output_type": "stream",
     "text": [
      "22\n",
      "11\n"
     ]
    }
   ],
   "source": [
    "#local variables\n",
    "\n",
    "def add():\n",
    "    s=12\n",
    "    g=10\n",
    "    print(s+g)\n",
    "\n",
    "add()\n",
    "\n",
    "def sub():\n",
    "    g=34\n",
    "    s=23\n",
    "    print(g-s)\n",
    "\n",
    "sub()"
   ]
  },
  {
   "cell_type": "code",
   "execution_count": null,
   "id": "de6d0040-a8aa-4280-bac5-120492100540",
   "metadata": {},
   "outputs": [],
   "source": []
  }
 ],
 "metadata": {
  "kernelspec": {
   "display_name": "Python 3 (ipykernel)",
   "language": "python",
   "name": "python3"
  },
  "language_info": {
   "codemirror_mode": {
    "name": "ipython",
    "version": 3
   },
   "file_extension": ".py",
   "mimetype": "text/x-python",
   "name": "python",
   "nbconvert_exporter": "python",
   "pygments_lexer": "ipython3",
   "version": "3.12.7"
  }
 },
 "nbformat": 4,
 "nbformat_minor": 5
}
