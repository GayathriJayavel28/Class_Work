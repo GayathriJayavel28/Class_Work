{
 "cells": [
  {
   "cell_type": "code",
   "execution_count": 1,
   "id": "c76ac1b1-b32a-4b8d-ae35-bd27a9621841",
   "metadata": {},
   "outputs": [
    {
     "name": "stdout",
     "output_type": "stream",
     "text": [
      "34\n",
      "67\n",
      "85\n",
      "gayu\n",
      "21\n",
      "vasu\n"
     ]
    }
   ],
   "source": [
    "#FOR LOOP\n",
    "\n",
    "g=[34,67,85,'gayu',21,'vasu']\n",
    "for i in g:\n",
    "    print(i)"
   ]
  },
  {
   "cell_type": "code",
   "execution_count": null,
   "id": "6086c1f6-1c4a-4c59-9e34-0b9d0888f679",
   "metadata": {},
   "outputs": [],
   "source": [
    "PASS,CONTINUE,BREAK - KEYWORDS"
   ]
  },
  {
   "cell_type": "code",
   "execution_count": 9,
   "id": "5c58fc86-a700-4e79-8423-0b9aa92d5e14",
   "metadata": {},
   "outputs": [
    {
     "name": "stdout",
     "output_type": "stream",
     "text": [
      "2\n",
      "4\n",
      "9\n",
      "11\n",
      "12\n",
      "13\n"
     ]
    }
   ],
   "source": [
    "#after 10 stop the program\n",
    "\n",
    "l=[2,4,9,10,11,12,13]\n",
    "for i in l:\n",
    "    if i==10:\n",
    "      continue\n",
    "    print(i)"
   ]
  },
  {
   "cell_type": "code",
   "execution_count": 12,
   "id": "553f5232-c7fc-450e-a1ee-d647e2f9a129",
   "metadata": {},
   "outputs": [
    {
     "name": "stdout",
     "output_type": "stream",
     "text": [
      "9\n",
      "11\n",
      "13\n"
     ]
    }
   ],
   "source": [
    "#odd number\n",
    "\n",
    "l=[2,4,9,10,11,12,13]\n",
    "for i in l:\n",
    "    if i%2!=0:\n",
    "        print(i)"
   ]
  },
  {
   "cell_type": "code",
   "execution_count": 30,
   "id": "92a0a7e8-f43d-4286-a71c-4f96a0833929",
   "metadata": {},
   "outputs": [
    {
     "name": "stdout",
     "output_type": "stream",
     "text": [
      "[2, 4, 10, 12]\n",
      "[9, 11, 13]\n"
     ]
    }
   ],
   "source": [
    "#ODD EVEN NUMBERS\n",
    "\n",
    "l=[2,4,9,10,11,12,13]\n",
    "o=[]\n",
    "e=[]\n",
    "for i in l:\n",
    "    if i%2==0:\n",
    "        e.append(i)\n",
    "    else:\n",
    "        o.append(i)\n",
    "print(e)\n",
    "print(o)"
   ]
  },
  {
   "cell_type": "code",
   "execution_count": 31,
   "id": "5d907ed4-847f-4181-ad03-2bc107912adb",
   "metadata": {},
   "outputs": [
    {
     "name": "stdout",
     "output_type": "stream",
     "text": [
      "7\n"
     ]
    }
   ],
   "source": [
    "l=[2,4,9,10,11,12,13]\n",
    "print(len(l))"
   ]
  },
  {
   "cell_type": "code",
   "execution_count": 36,
   "id": "f459c323-7de8-4268-9113-35cee9c8c565",
   "metadata": {},
   "outputs": [
    {
     "name": "stdout",
     "output_type": "stream",
     "text": [
      "7\n"
     ]
    }
   ],
   "source": [
    "#length print \n",
    "\n",
    "l=[2,4,9,10,11,12,13]\n",
    "s=0\n",
    "for i in l:\n",
    "    s+=1\n",
    "print(s)"
   ]
  },
  {
   "cell_type": "code",
   "execution_count": null,
   "id": "d101b853-128b-4bfb-9224-16d1b77b9211",
   "metadata": {},
   "outputs": [],
   "source": []
  }
 ],
 "metadata": {
  "kernelspec": {
   "display_name": "Python 3 (ipykernel)",
   "language": "python",
   "name": "python3"
  },
  "language_info": {
   "codemirror_mode": {
    "name": "ipython",
    "version": 3
   },
   "file_extension": ".py",
   "mimetype": "text/x-python",
   "name": "python",
   "nbconvert_exporter": "python",
   "pygments_lexer": "ipython3",
   "version": "3.12.7"
  }
 },
 "nbformat": 4,
 "nbformat_minor": 5
}
