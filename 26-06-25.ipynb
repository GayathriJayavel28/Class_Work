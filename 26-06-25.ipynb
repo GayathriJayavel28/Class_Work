{
 "cells": [
  {
   "cell_type": "code",
   "execution_count": null,
   "id": "6fa5d1c5-3f49-48a3-8986-13063233773a",
   "metadata": {},
   "outputs": [],
   "source": [
    "#ERROR HANDLING"
   ]
  },
  {
   "cell_type": "code",
   "execution_count": null,
   "id": "2ccb7711-366d-404c-a066-4178e7f51964",
   "metadata": {},
   "outputs": [],
   "source": [
    "#TRY / EXCEPT / FINALLY"
   ]
  },
  {
   "cell_type": "code",
   "execution_count": null,
   "id": "ca64d794-48b4-4e4d-b13d-c344889c6603",
   "metadata": {},
   "outputs": [],
   "source": [
    "# except exception as a:"
   ]
  },
  {
   "cell_type": "code",
   "execution_count": 3,
   "id": "20165eb1-6a14-4966-9222-96a7922f037a",
   "metadata": {},
   "outputs": [
    {
     "name": "stdout",
     "output_type": "stream",
     "text": [
      "ZeroDivisionError\n"
     ]
    }
   ],
   "source": [
    "try:\n",
    "    a=10\n",
    "    b=0\n",
    "    print(a/b)\n",
    "except:\n",
    "    print('ZeroDivisionError')\n",
    "    "
   ]
  },
  {
   "cell_type": "code",
   "execution_count": 18,
   "id": "add053c6-19ff-4e76-931c-7f3c87e2f0e1",
   "metadata": {},
   "outputs": [
    {
     "name": "stdout",
     "output_type": "stream",
     "text": [
      "NameError\n"
     ]
    }
   ],
   "source": [
    "try:\n",
    "    a=10\n",
    "    b=0\n",
    "    print(a/c)\n",
    "except ZeroDivisionError:\n",
    "    print('ZeroDivisionError')\n",
    "except NameError:\n",
    "    print('NameError')"
   ]
  },
  {
   "cell_type": "code",
   "execution_count": 20,
   "id": "d3a8669d-6d8c-4976-88d2-2ccd97201a7b",
   "metadata": {},
   "outputs": [
    {
     "name": "stdout",
     "output_type": "stream",
     "text": [
      "ZeroDivisionError\n"
     ]
    }
   ],
   "source": [
    "try:\n",
    "    a=10\n",
    "    b=0\n",
    "    print(a/b)\n",
    "except ZeroDivisionError:\n",
    "    print('ZeroDivisionError')\n",
    "except NameError:\n",
    "    print('NameError')"
   ]
  },
  {
   "cell_type": "code",
   "execution_count": 21,
   "id": "868a1e6b-b747-4547-a311-6fc50ff6f13a",
   "metadata": {},
   "outputs": [
    {
     "name": "stdout",
     "output_type": "stream",
     "text": [
      "5.0\n",
      "done\n"
     ]
    }
   ],
   "source": [
    "try:\n",
    "    a=10\n",
    "    b=2\n",
    "    print(a/b)\n",
    "except ZeroDivisionError:\n",
    "    print('ZeroDivisionError')\n",
    "except NameError:\n",
    "    print('NameError')\n",
    "finally:\n",
    "    print('done')"
   ]
  },
  {
   "cell_type": "code",
   "execution_count": 16,
   "id": "60c2a7a5-1618-4d69-ac28-df696e3a02f5",
   "metadata": {},
   "outputs": [
    {
     "name": "stdout",
     "output_type": "stream",
     "text": [
      "division by zero\n"
     ]
    }
   ],
   "source": [
    "#ZeroDivisionError\n",
    "\n",
    "try:\n",
    "    a=3\n",
    "    b=0\n",
    "    print(a/b)\n",
    "except Exception as a:\n",
    "    print(a)"
   ]
  },
  {
   "cell_type": "code",
   "execution_count": 17,
   "id": "0de63f25-01cb-4adc-bffd-2fd00e9f93f4",
   "metadata": {},
   "outputs": [
    {
     "name": "stdout",
     "output_type": "stream",
     "text": [
      "name 'c' is not defined\n"
     ]
    }
   ],
   "source": [
    "#NameError\n",
    "\n",
    "try:\n",
    "    a=3\n",
    "    b=0\n",
    "    print(a/c)\n",
    "except Exception as a:\n",
    "    print(a)"
   ]
  },
  {
   "cell_type": "code",
   "execution_count": null,
   "id": "a0e5f0d9-30d8-4f2c-8405-594935acfe87",
   "metadata": {},
   "outputs": [],
   "source": []
  },
  {
   "cell_type": "code",
   "execution_count": 2,
   "id": "2166acb1-b53d-471f-8a51-bcd717411bad",
   "metadata": {},
   "outputs": [
    {
     "data": {
      "text/plain": [
       "'HELLO'"
      ]
     },
     "execution_count": 2,
     "metadata": {},
     "output_type": "execute_result"
    }
   ],
   "source": [
    "f= open('FILE HANDLING.txt','r')\n",
    "f.read()"
   ]
  },
  {
   "cell_type": "code",
   "execution_count": 4,
   "id": "02dd17e4-daa8-4a0d-8de4-d9bf3616ccc5",
   "metadata": {},
   "outputs": [
    {
     "data": {
      "text/plain": [
       "'HELLO G'"
      ]
     },
     "execution_count": 4,
     "metadata": {},
     "output_type": "execute_result"
    }
   ],
   "source": [
    "f= open('FILE HANDLING.txt','r')\n",
    "f.read(7)"
   ]
  },
  {
   "cell_type": "code",
   "execution_count": null,
   "id": "58953b8b-974b-4398-854b-8d428224e977",
   "metadata": {},
   "outputs": [],
   "source": [
    "'''f.readline\n",
    "f.write\n",
    "f.close\n",
    "f.read\n",
    "add=a\n",
    "read=r\n",
    "overwrite=w'''\n"
   ]
  }
 ],
 "metadata": {
  "kernelspec": {
   "display_name": "Python 3 (ipykernel)",
   "language": "python",
   "name": "python3"
  },
  "language_info": {
   "codemirror_mode": {
    "name": "ipython",
    "version": 3
   },
   "file_extension": ".py",
   "mimetype": "text/x-python",
   "name": "python",
   "nbconvert_exporter": "python",
   "pygments_lexer": "ipython3",
   "version": "3.12.7"
  }
 },
 "nbformat": 4,
 "nbformat_minor": 5
}
