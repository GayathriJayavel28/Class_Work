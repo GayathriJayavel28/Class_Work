{
 "cells": [
  {
   "cell_type": "code",
   "execution_count": null,
   "id": "23ddb69f-6cf7-40ab-9bf3-2575c89b756b",
   "metadata": {},
   "outputs": [],
   "source": [
    "for i in range(1,11):\n",
    "    print(i,'x5=',i*5)"
   ]
  },
  {
   "cell_type": "code",
   "execution_count": 5,
   "id": "95692d72-21b1-4936-8277-bc6fb72ffd33",
   "metadata": {},
   "outputs": [
    {
     "name": "stdout",
     "output_type": "stream",
     "text": [
      "1\n",
      "1\n",
      "2\n",
      "3\n",
      "5\n",
      "8\n",
      "13\n",
      "21\n",
      "34\n",
      "55\n"
     ]
    }
   ],
   "source": [
    "a=0\n",
    "b=1\n",
    "\n",
    "for i in range(10):\n",
    "    a,b=b,a+b\n",
    "    print(a)"
   ]
  },
  {
   "cell_type": "code",
   "execution_count": null,
   "id": "110fac74-cb49-422a-97fd-6b140a8e98df",
   "metadata": {},
   "outputs": [],
   "source": [
    "tables\n",
    "fibonacci series"
   ]
  }
 ],
 "metadata": {
  "kernelspec": {
   "display_name": "Python 3 (ipykernel)",
   "language": "python",
   "name": "python3"
  },
  "language_info": {
   "codemirror_mode": {
    "name": "ipython",
    "version": 3
   },
   "file_extension": ".py",
   "mimetype": "text/x-python",
   "name": "python",
   "nbconvert_exporter": "python",
   "pygments_lexer": "ipython3",
   "version": "3.12.7"
  }
 },
 "nbformat": 4,
 "nbformat_minor": 5
}
