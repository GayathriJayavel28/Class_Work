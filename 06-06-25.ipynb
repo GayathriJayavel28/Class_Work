{
 "cells": [
  {
   "cell_type": "code",
   "execution_count": 19,
   "id": "2c090a85-56f5-4f18-b863-8a721153081d",
   "metadata": {},
   "outputs": [
    {
     "name": "stdout",
     "output_type": "stream",
     "text": [
      "57\n",
      "11\n",
      "782\n",
      "1.4782608695652173\n",
      "11\n"
     ]
    }
   ],
   "source": [
    "#arithmetic operators (mathematical calculations)\n",
    "\n",
    "a=34\n",
    "b=23\n",
    "c=a+b\n",
    "print(c)\n",
    "c=a-b\n",
    "print(c)\n",
    "c=a*b\n",
    "print(c)\n",
    "c=a/b\n",
    "print(c)\n",
    "c=a%b\n",
    "print(c)"
   ]
  },
  {
   "cell_type": "code",
   "execution_count": 14,
   "id": "6cef14d5-6d4a-4598-bb92-07dc8d95a5e8",
   "metadata": {},
   "outputs": [
    {
     "name": "stdout",
     "output_type": "stream",
     "text": [
      "6\n",
      "9\n",
      "-3\n",
      "-102\n",
      "-1.1333333333333333\n",
      "21.866666666666667\n"
     ]
    }
   ],
   "source": [
    "#assignment operators (assign values to variables)\n",
    "\n",
    "a=6\n",
    "print(a)\n",
    "a+=3\n",
    "print(a)\n",
    "a-=12\n",
    "print(a)\n",
    "a*=34\n",
    "print(a)\n",
    "a/=90\n",
    "print(a)\n",
    "a%=23\n",
    "print(a)\n"
   ]
  },
  {
   "cell_type": "code",
   "execution_count": 4,
   "id": "d58d559f-42f2-4f66-8f0f-4db72f08cc98",
   "metadata": {},
   "outputs": [
    {
     "name": "stdout",
     "output_type": "stream",
     "text": [
      "False\n",
      "True\n",
      "False\n",
      "True\n",
      "False\n",
      "True\n"
     ]
    }
   ],
   "source": [
    "#comparison operators (true or false)\n",
    "\n",
    "a=23\n",
    "b=32\n",
    "print(a==b)\n",
    "print(a!=b)\n",
    "print(a>b)\n",
    "print(a<b)\n",
    "print(a>=b)\n",
    "print(a<=b)\n"
   ]
  },
  {
   "cell_type": "code",
   "execution_count": null,
   "id": "393ec1f5-9164-4fa7-80a7-f225375fdc4d",
   "metadata": {},
   "outputs": [],
   "source": []
  }
 ],
 "metadata": {
  "kernelspec": {
   "display_name": "Python 3 (ipykernel)",
   "language": "python",
   "name": "python3"
  },
  "language_info": {
   "codemirror_mode": {
    "name": "ipython",
    "version": 3
   },
   "file_extension": ".py",
   "mimetype": "text/x-python",
   "name": "python",
   "nbconvert_exporter": "python",
   "pygments_lexer": "ipython3",
   "version": "3.12.7"
  }
 },
 "nbformat": 4,
 "nbformat_minor": 5
}
